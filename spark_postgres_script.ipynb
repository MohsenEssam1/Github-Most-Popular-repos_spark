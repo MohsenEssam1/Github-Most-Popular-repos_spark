{
  "cells": [
    {
      "cell_type": "code",
      "source": [
        "!pip install pyspark py4j\n"
      ],
      "metadata": {
        "id": "KJkSlvGAAzb1",
        "colab": {
          "base_uri": "https://localhost:8080/"
        },
        "outputId": "ecb85b41-fddf-4738-f0e2-f0d150624f1d"
      },
      "execution_count": null,
      "outputs": [
        {
          "output_type": "stream",
          "name": "stdout",
          "text": [
            "Requirement already satisfied: pyspark in /usr/local/lib/python3.11/dist-packages (3.5.5)\n",
            "Requirement already satisfied: py4j in /usr/local/lib/python3.11/dist-packages (0.10.9.7)\n"
          ]
        }
      ]
    },
    {
      "cell_type": "code",
      "source": [
        "!apt-get -qq update\n",
        "!apt-get -y install postgresql postgresql-contrib openjdk-8-jdk\n",
        "\n",
        "!pip install -q pyspark findspark psycopg2-binary\n",
        "!service postgresql start\n",
        "!ps aux | grep postgres"
      ],
      "metadata": {
        "id": "ekvIWxjIQl_7",
        "colab": {
          "base_uri": "https://localhost:8080/"
        },
        "outputId": "8f747ada-d611-404a-b6ae-da62196720c9"
      },
      "execution_count": 30,
      "outputs": [
        {
          "output_type": "stream",
          "name": "stdout",
          "text": [
            "W: Skipping acquire of configured file 'main/source/Sources' as repository 'https://r2u.stat.illinois.edu/ubuntu jammy InRelease' does not seem to provide it (sources.list entry misspelt?)\n",
            "Reading package lists... Done\n",
            "Building dependency tree... Done\n",
            "Reading state information... Done\n",
            "The following additional packages will be installed:\n",
            "  fonts-dejavu-core fonts-dejavu-extra libatk-wrapper-java libatk-wrapper-java-jni\n",
            "  libcommon-sense-perl libfontenc1 libgail-common libgail18 libgtk2.0-0 libgtk2.0-bin\n",
            "  libgtk2.0-common libice-dev libjson-perl libjson-xs-perl librsvg2-common libsm-dev\n",
            "  libtypes-serialiser-perl libxkbfile1 libxt-dev libxtst6 libxxf86dga1 logrotate netbase\n",
            "  openjdk-8-jdk-headless openjdk-8-jre openjdk-8-jre-headless postgresql-14 postgresql-client-14\n",
            "  postgresql-client-common postgresql-common ssl-cert sysstat x11-utils\n",
            "Suggested packages:\n",
            "  gvfs libice-doc libsm-doc libxt-doc bsd-mailx | mailx openjdk-8-demo openjdk-8-source visualvm\n",
            "  libnss-mdns fonts-nanum fonts-ipafont-gothic fonts-ipafont-mincho fonts-wqy-microhei\n",
            "  fonts-wqy-zenhei fonts-indic postgresql-doc postgresql-doc-14 isag mesa-utils\n",
            "The following NEW packages will be installed:\n",
            "  fonts-dejavu-core fonts-dejavu-extra libatk-wrapper-java libatk-wrapper-java-jni\n",
            "  libcommon-sense-perl libfontenc1 libgail-common libgail18 libgtk2.0-0 libgtk2.0-bin\n",
            "  libgtk2.0-common libice-dev libjson-perl libjson-xs-perl librsvg2-common libsm-dev\n",
            "  libtypes-serialiser-perl libxkbfile1 libxt-dev libxtst6 libxxf86dga1 logrotate netbase\n",
            "  openjdk-8-jdk openjdk-8-jdk-headless openjdk-8-jre openjdk-8-jre-headless postgresql\n",
            "  postgresql-14 postgresql-client-14 postgresql-client-common postgresql-common postgresql-contrib\n",
            "  ssl-cert sysstat x11-utils\n",
            "0 upgraded, 36 newly installed, 0 to remove and 32 not upgraded.\n",
            "Need to get 68.6 MB of archives.\n",
            "After this operation, 221 MB of additional disk space will be used.\n",
            "Get:1 http://archive.ubuntu.com/ubuntu jammy-updates/main amd64 logrotate amd64 3.19.0-1ubuntu1.1 [54.3 kB]\n",
            "Get:2 http://archive.ubuntu.com/ubuntu jammy/main amd64 netbase all 6.3 [12.9 kB]\n",
            "Get:3 http://archive.ubuntu.com/ubuntu jammy/main amd64 fonts-dejavu-core all 2.37-2build1 [1,041 kB]\n",
            "Get:4 http://archive.ubuntu.com/ubuntu jammy/main amd64 fonts-dejavu-extra all 2.37-2build1 [2,041 kB]\n",
            "Get:5 http://archive.ubuntu.com/ubuntu jammy/main amd64 libfontenc1 amd64 1:1.1.4-1build3 [14.7 kB]\n",
            "Get:6 http://archive.ubuntu.com/ubuntu jammy/main amd64 libxkbfile1 amd64 1:1.1.0-1build3 [71.8 kB]\n",
            "Get:7 http://archive.ubuntu.com/ubuntu jammy/main amd64 libxtst6 amd64 2:1.2.3-1build4 [13.4 kB]\n",
            "Get:8 http://archive.ubuntu.com/ubuntu jammy/main amd64 libxxf86dga1 amd64 2:1.1.5-0ubuntu3 [12.6 kB]\n",
            "Get:9 http://archive.ubuntu.com/ubuntu jammy/main amd64 x11-utils amd64 7.7+5build2 [206 kB]\n",
            "Get:10 http://archive.ubuntu.com/ubuntu jammy/main amd64 libatk-wrapper-java all 0.38.0-5build1 [53.1 kB]\n",
            "Get:11 http://archive.ubuntu.com/ubuntu jammy/main amd64 libatk-wrapper-java-jni amd64 0.38.0-5build1 [49.0 kB]\n",
            "Get:12 http://archive.ubuntu.com/ubuntu jammy/main amd64 libcommon-sense-perl amd64 3.75-2build1 [21.1 kB]\n",
            "Get:13 http://archive.ubuntu.com/ubuntu jammy-updates/main amd64 libgtk2.0-common all 2.24.33-2ubuntu2.1 [125 kB]\n",
            "Get:14 http://archive.ubuntu.com/ubuntu jammy-updates/main amd64 libgtk2.0-0 amd64 2.24.33-2ubuntu2.1 [2,038 kB]\n",
            "Get:15 http://archive.ubuntu.com/ubuntu jammy-updates/main amd64 libgail18 amd64 2.24.33-2ubuntu2.1 [15.9 kB]\n",
            "Get:16 http://archive.ubuntu.com/ubuntu jammy-updates/main amd64 libgail-common amd64 2.24.33-2ubuntu2.1 [132 kB]\n",
            "Get:17 http://archive.ubuntu.com/ubuntu jammy-updates/main amd64 libgtk2.0-bin amd64 2.24.33-2ubuntu2.1 [7,936 B]\n",
            "Get:18 http://archive.ubuntu.com/ubuntu jammy/main amd64 libice-dev amd64 2:1.0.10-1build2 [51.4 kB]\n",
            "Get:19 http://archive.ubuntu.com/ubuntu jammy/main amd64 libjson-perl all 4.04000-1 [81.8 kB]\n",
            "Get:20 http://archive.ubuntu.com/ubuntu jammy/main amd64 libtypes-serialiser-perl all 1.01-1 [11.6 kB]\n",
            "Get:21 http://archive.ubuntu.com/ubuntu jammy/main amd64 libjson-xs-perl amd64 4.030-1build3 [87.2 kB]\n",
            "Get:22 http://archive.ubuntu.com/ubuntu jammy-updates/main amd64 librsvg2-common amd64 2.52.5+dfsg-3ubuntu0.2 [17.7 kB]\n",
            "Get:23 http://archive.ubuntu.com/ubuntu jammy/main amd64 libsm-dev amd64 2:1.2.3-1build2 [18.1 kB]\n",
            "Get:24 http://archive.ubuntu.com/ubuntu jammy/main amd64 libxt-dev amd64 1:1.2.1-1 [396 kB]\n",
            "Get:25 http://archive.ubuntu.com/ubuntu jammy-updates/universe amd64 openjdk-8-jre-headless amd64 8u442-b06~us1-0ubuntu1~22.04 [30.8 MB]\n",
            "Get:26 http://archive.ubuntu.com/ubuntu jammy-updates/universe amd64 openjdk-8-jre amd64 8u442-b06~us1-0ubuntu1~22.04 [75.3 kB]\n",
            "Get:27 http://archive.ubuntu.com/ubuntu jammy-updates/universe amd64 openjdk-8-jdk-headless amd64 8u442-b06~us1-0ubuntu1~22.04 [8,864 kB]\n",
            "Get:28 http://archive.ubuntu.com/ubuntu jammy-updates/universe amd64 openjdk-8-jdk amd64 8u442-b06~us1-0ubuntu1~22.04 [4,077 kB]\n",
            "Get:29 http://archive.ubuntu.com/ubuntu jammy/main amd64 postgresql-client-common all 238 [29.6 kB]\n",
            "Get:30 http://archive.ubuntu.com/ubuntu jammy-updates/main amd64 postgresql-client-14 amd64 14.17-0ubuntu0.22.04.1 [1,246 kB]\n",
            "Get:31 http://archive.ubuntu.com/ubuntu jammy/main amd64 ssl-cert all 1.1.2 [17.4 kB]\n",
            "Get:32 http://archive.ubuntu.com/ubuntu jammy/main amd64 postgresql-common all 238 [169 kB]\n",
            "Get:33 http://archive.ubuntu.com/ubuntu jammy-updates/main amd64 postgresql-14 amd64 14.17-0ubuntu0.22.04.1 [16.2 MB]\n",
            "Get:34 http://archive.ubuntu.com/ubuntu jammy/main amd64 postgresql all 14+238 [3,288 B]\n",
            "Get:35 http://archive.ubuntu.com/ubuntu jammy/main amd64 postgresql-contrib all 14+238 [3,292 B]\n",
            "Get:36 http://archive.ubuntu.com/ubuntu jammy-updates/main amd64 sysstat amd64 12.5.2-2ubuntu0.2 [487 kB]\n",
            "Fetched 68.6 MB in 2s (29.1 MB/s)\n",
            "Extracting templates from packages: 100%\n",
            "Preconfiguring packages ...\n",
            "Selecting previously unselected package logrotate.\n",
            "(Reading database ... 124947 files and directories currently installed.)\n",
            "Preparing to unpack .../00-logrotate_3.19.0-1ubuntu1.1_amd64.deb ...\n",
            "Unpacking logrotate (3.19.0-1ubuntu1.1) ...\n",
            "Selecting previously unselected package netbase.\n",
            "Preparing to unpack .../01-netbase_6.3_all.deb ...\n",
            "Unpacking netbase (6.3) ...\n",
            "Selecting previously unselected package fonts-dejavu-core.\n",
            "Preparing to unpack .../02-fonts-dejavu-core_2.37-2build1_all.deb ...\n",
            "Unpacking fonts-dejavu-core (2.37-2build1) ...\n",
            "Selecting previously unselected package fonts-dejavu-extra.\n",
            "Preparing to unpack .../03-fonts-dejavu-extra_2.37-2build1_all.deb ...\n",
            "Unpacking fonts-dejavu-extra (2.37-2build1) ...\n",
            "Selecting previously unselected package libfontenc1:amd64.\n",
            "Preparing to unpack .../04-libfontenc1_1%3a1.1.4-1build3_amd64.deb ...\n",
            "Unpacking libfontenc1:amd64 (1:1.1.4-1build3) ...\n",
            "Selecting previously unselected package libxkbfile1:amd64.\n",
            "Preparing to unpack .../05-libxkbfile1_1%3a1.1.0-1build3_amd64.deb ...\n",
            "Unpacking libxkbfile1:amd64 (1:1.1.0-1build3) ...\n",
            "Selecting previously unselected package libxtst6:amd64.\n",
            "Preparing to unpack .../06-libxtst6_2%3a1.2.3-1build4_amd64.deb ...\n",
            "Unpacking libxtst6:amd64 (2:1.2.3-1build4) ...\n",
            "Selecting previously unselected package libxxf86dga1:amd64.\n",
            "Preparing to unpack .../07-libxxf86dga1_2%3a1.1.5-0ubuntu3_amd64.deb ...\n",
            "Unpacking libxxf86dga1:amd64 (2:1.1.5-0ubuntu3) ...\n",
            "Selecting previously unselected package x11-utils.\n",
            "Preparing to unpack .../08-x11-utils_7.7+5build2_amd64.deb ...\n",
            "Unpacking x11-utils (7.7+5build2) ...\n",
            "Selecting previously unselected package libatk-wrapper-java.\n",
            "Preparing to unpack .../09-libatk-wrapper-java_0.38.0-5build1_all.deb ...\n",
            "Unpacking libatk-wrapper-java (0.38.0-5build1) ...\n",
            "Selecting previously unselected package libatk-wrapper-java-jni:amd64.\n",
            "Preparing to unpack .../10-libatk-wrapper-java-jni_0.38.0-5build1_amd64.deb ...\n",
            "Unpacking libatk-wrapper-java-jni:amd64 (0.38.0-5build1) ...\n",
            "Selecting previously unselected package libcommon-sense-perl:amd64.\n",
            "Preparing to unpack .../11-libcommon-sense-perl_3.75-2build1_amd64.deb ...\n",
            "Unpacking libcommon-sense-perl:amd64 (3.75-2build1) ...\n",
            "Selecting previously unselected package libgtk2.0-common.\n",
            "Preparing to unpack .../12-libgtk2.0-common_2.24.33-2ubuntu2.1_all.deb ...\n",
            "Unpacking libgtk2.0-common (2.24.33-2ubuntu2.1) ...\n",
            "Selecting previously unselected package libgtk2.0-0:amd64.\n",
            "Preparing to unpack .../13-libgtk2.0-0_2.24.33-2ubuntu2.1_amd64.deb ...\n",
            "Unpacking libgtk2.0-0:amd64 (2.24.33-2ubuntu2.1) ...\n",
            "Selecting previously unselected package libgail18:amd64.\n",
            "Preparing to unpack .../14-libgail18_2.24.33-2ubuntu2.1_amd64.deb ...\n",
            "Unpacking libgail18:amd64 (2.24.33-2ubuntu2.1) ...\n",
            "Selecting previously unselected package libgail-common:amd64.\n",
            "Preparing to unpack .../15-libgail-common_2.24.33-2ubuntu2.1_amd64.deb ...\n",
            "Unpacking libgail-common:amd64 (2.24.33-2ubuntu2.1) ...\n",
            "Selecting previously unselected package libgtk2.0-bin.\n",
            "Preparing to unpack .../16-libgtk2.0-bin_2.24.33-2ubuntu2.1_amd64.deb ...\n",
            "Unpacking libgtk2.0-bin (2.24.33-2ubuntu2.1) ...\n",
            "Selecting previously unselected package libice-dev:amd64.\n",
            "Preparing to unpack .../17-libice-dev_2%3a1.0.10-1build2_amd64.deb ...\n",
            "Unpacking libice-dev:amd64 (2:1.0.10-1build2) ...\n",
            "Selecting previously unselected package libjson-perl.\n",
            "Preparing to unpack .../18-libjson-perl_4.04000-1_all.deb ...\n",
            "Unpacking libjson-perl (4.04000-1) ...\n",
            "Selecting previously unselected package libtypes-serialiser-perl.\n",
            "Preparing to unpack .../19-libtypes-serialiser-perl_1.01-1_all.deb ...\n",
            "Unpacking libtypes-serialiser-perl (1.01-1) ...\n",
            "Selecting previously unselected package libjson-xs-perl.\n",
            "Preparing to unpack .../20-libjson-xs-perl_4.030-1build3_amd64.deb ...\n",
            "Unpacking libjson-xs-perl (4.030-1build3) ...\n",
            "Selecting previously unselected package librsvg2-common:amd64.\n",
            "Preparing to unpack .../21-librsvg2-common_2.52.5+dfsg-3ubuntu0.2_amd64.deb ...\n",
            "Unpacking librsvg2-common:amd64 (2.52.5+dfsg-3ubuntu0.2) ...\n",
            "Selecting previously unselected package libsm-dev:amd64.\n",
            "Preparing to unpack .../22-libsm-dev_2%3a1.2.3-1build2_amd64.deb ...\n",
            "Unpacking libsm-dev:amd64 (2:1.2.3-1build2) ...\n",
            "Selecting previously unselected package libxt-dev:amd64.\n",
            "Preparing to unpack .../23-libxt-dev_1%3a1.2.1-1_amd64.deb ...\n",
            "Unpacking libxt-dev:amd64 (1:1.2.1-1) ...\n",
            "Selecting previously unselected package openjdk-8-jre-headless:amd64.\n",
            "Preparing to unpack .../24-openjdk-8-jre-headless_8u442-b06~us1-0ubuntu1~22.04_amd64.deb ...\n",
            "Unpacking openjdk-8-jre-headless:amd64 (8u442-b06~us1-0ubuntu1~22.04) ...\n",
            "Selecting previously unselected package openjdk-8-jre:amd64.\n",
            "Preparing to unpack .../25-openjdk-8-jre_8u442-b06~us1-0ubuntu1~22.04_amd64.deb ...\n",
            "Unpacking openjdk-8-jre:amd64 (8u442-b06~us1-0ubuntu1~22.04) ...\n",
            "Selecting previously unselected package openjdk-8-jdk-headless:amd64.\n",
            "Preparing to unpack .../26-openjdk-8-jdk-headless_8u442-b06~us1-0ubuntu1~22.04_amd64.deb ...\n",
            "Unpacking openjdk-8-jdk-headless:amd64 (8u442-b06~us1-0ubuntu1~22.04) ...\n",
            "Selecting previously unselected package openjdk-8-jdk:amd64.\n",
            "Preparing to unpack .../27-openjdk-8-jdk_8u442-b06~us1-0ubuntu1~22.04_amd64.deb ...\n",
            "Unpacking openjdk-8-jdk:amd64 (8u442-b06~us1-0ubuntu1~22.04) ...\n",
            "Selecting previously unselected package postgresql-client-common.\n",
            "Preparing to unpack .../28-postgresql-client-common_238_all.deb ...\n",
            "Unpacking postgresql-client-common (238) ...\n",
            "Selecting previously unselected package postgresql-client-14.\n",
            "Preparing to unpack .../29-postgresql-client-14_14.17-0ubuntu0.22.04.1_amd64.deb ...\n",
            "Unpacking postgresql-client-14 (14.17-0ubuntu0.22.04.1) ...\n",
            "Selecting previously unselected package ssl-cert.\n",
            "Preparing to unpack .../30-ssl-cert_1.1.2_all.deb ...\n",
            "Unpacking ssl-cert (1.1.2) ...\n",
            "Selecting previously unselected package postgresql-common.\n",
            "Preparing to unpack .../31-postgresql-common_238_all.deb ...\n",
            "Adding 'diversion of /usr/bin/pg_config to /usr/bin/pg_config.libpq-dev by postgresql-common'\n",
            "Unpacking postgresql-common (238) ...\n",
            "Selecting previously unselected package postgresql-14.\n",
            "Preparing to unpack .../32-postgresql-14_14.17-0ubuntu0.22.04.1_amd64.deb ...\n",
            "Unpacking postgresql-14 (14.17-0ubuntu0.22.04.1) ...\n",
            "Selecting previously unselected package postgresql.\n",
            "Preparing to unpack .../33-postgresql_14+238_all.deb ...\n",
            "Unpacking postgresql (14+238) ...\n",
            "Selecting previously unselected package postgresql-contrib.\n",
            "Preparing to unpack .../34-postgresql-contrib_14+238_all.deb ...\n",
            "Unpacking postgresql-contrib (14+238) ...\n",
            "Selecting previously unselected package sysstat.\n",
            "Preparing to unpack .../35-sysstat_12.5.2-2ubuntu0.2_amd64.deb ...\n",
            "Unpacking sysstat (12.5.2-2ubuntu0.2) ...\n",
            "Setting up logrotate (3.19.0-1ubuntu1.1) ...\n",
            "Created symlink /etc/systemd/system/timers.target.wants/logrotate.timer → /lib/systemd/system/logrotate.timer.\n",
            "Setting up libice-dev:amd64 (2:1.0.10-1build2) ...\n",
            "Setting up libsm-dev:amd64 (2:1.2.3-1build2) ...\n",
            "Setting up libxtst6:amd64 (2:1.2.3-1build4) ...\n",
            "Setting up libxxf86dga1:amd64 (2:1.1.5-0ubuntu3) ...\n",
            "Setting up libcommon-sense-perl:amd64 (3.75-2build1) ...\n",
            "Setting up libfontenc1:amd64 (1:1.1.4-1build3) ...\n",
            "Setting up ssl-cert (1.1.2) ...\n",
            "Setting up libxt-dev:amd64 (1:1.2.1-1) ...\n",
            "Setting up openjdk-8-jre-headless:amd64 (8u442-b06~us1-0ubuntu1~22.04) ...\n",
            "update-alternatives: using /usr/lib/jvm/java-8-openjdk-amd64/jre/bin/orbd to provide /usr/bin/orbd (orbd) in auto mode\n",
            "update-alternatives: using /usr/lib/jvm/java-8-openjdk-amd64/jre/bin/servertool to provide /usr/bin/servertool (servertool) in auto mode\n",
            "update-alternatives: using /usr/lib/jvm/java-8-openjdk-amd64/jre/bin/tnameserv to provide /usr/bin/tnameserv (tnameserv) in auto mode\n",
            "Setting up fonts-dejavu-core (2.37-2build1) ...\n",
            "Setting up librsvg2-common:amd64 (2.52.5+dfsg-3ubuntu0.2) ...\n",
            "Setting up fonts-dejavu-extra (2.37-2build1) ...\n",
            "Setting up libtypes-serialiser-perl (1.01-1) ...\n",
            "Setting up libjson-perl (4.04000-1) ...\n",
            "Setting up netbase (6.3) ...\n",
            "Setting up libgtk2.0-common (2.24.33-2ubuntu2.1) ...\n",
            "Setting up libxkbfile1:amd64 (1:1.1.0-1build3) ...\n",
            "Setting up sysstat (12.5.2-2ubuntu0.2) ...\n",
            "\n",
            "Creating config file /etc/default/sysstat with new version\n",
            "update-alternatives: using /usr/bin/sar.sysstat to provide /usr/bin/sar (sar) in auto mode\n",
            "Created symlink /etc/systemd/system/sysstat.service.wants/sysstat-collect.timer → /lib/systemd/system/sysstat-collect.timer.\n",
            "Created symlink /etc/systemd/system/sysstat.service.wants/sysstat-summary.timer → /lib/systemd/system/sysstat-summary.timer.\n",
            "Created symlink /etc/systemd/system/multi-user.target.wants/sysstat.service → /lib/systemd/system/sysstat.service.\n",
            "Setting up postgresql-client-common (238) ...\n",
            "Setting up libjson-xs-perl (4.030-1build3) ...\n",
            "Setting up libgtk2.0-0:amd64 (2.24.33-2ubuntu2.1) ...\n",
            "Setting up postgresql-client-14 (14.17-0ubuntu0.22.04.1) ...\n",
            "update-alternatives: using /usr/share/postgresql/14/man/man1/psql.1.gz to provide /usr/share/man/man1/psql.1.gz (psql.1.gz) in auto mode\n",
            "Setting up openjdk-8-jdk-headless:amd64 (8u442-b06~us1-0ubuntu1~22.04) ...\n",
            "update-alternatives: using /usr/lib/jvm/java-8-openjdk-amd64/bin/clhsdb to provide /usr/bin/clhsdb (clhsdb) in auto mode\n",
            "update-alternatives: using /usr/lib/jvm/java-8-openjdk-amd64/bin/extcheck to provide /usr/bin/extcheck (extcheck) in auto mode\n",
            "update-alternatives: using /usr/lib/jvm/java-8-openjdk-amd64/bin/hsdb to provide /usr/bin/hsdb (hsdb) in auto mode\n",
            "update-alternatives: using /usr/lib/jvm/java-8-openjdk-amd64/bin/idlj to provide /usr/bin/idlj (idlj) in auto mode\n",
            "update-alternatives: using /usr/lib/jvm/java-8-openjdk-amd64/bin/javah to provide /usr/bin/javah (javah) in auto mode\n",
            "update-alternatives: using /usr/lib/jvm/java-8-openjdk-amd64/bin/jhat to provide /usr/bin/jhat (jhat) in auto mode\n",
            "update-alternatives: using /usr/lib/jvm/java-8-openjdk-amd64/bin/jsadebugd to provide /usr/bin/jsadebugd (jsadebugd) in auto mode\n",
            "update-alternatives: using /usr/lib/jvm/java-8-openjdk-amd64/bin/native2ascii to provide /usr/bin/native2ascii (native2ascii) in auto mode\n",
            "update-alternatives: using /usr/lib/jvm/java-8-openjdk-amd64/bin/schemagen to provide /usr/bin/schemagen (schemagen) in auto mode\n",
            "update-alternatives: using /usr/lib/jvm/java-8-openjdk-amd64/bin/wsgen to provide /usr/bin/wsgen (wsgen) in auto mode\n",
            "update-alternatives: using /usr/lib/jvm/java-8-openjdk-amd64/bin/wsimport to provide /usr/bin/wsimport (wsimport) in auto mode\n",
            "update-alternatives: using /usr/lib/jvm/java-8-openjdk-amd64/bin/xjc to provide /usr/bin/xjc (xjc) in auto mode\n",
            "Setting up postgresql-common (238) ...\n",
            "Adding user postgres to group ssl-cert\n",
            "\n",
            "Creating config file /etc/postgresql-common/createcluster.conf with new version\n",
            "Building PostgreSQL dictionaries from installed myspell/hunspell packages...\n",
            "Removing obsolete dictionary files:\n",
            "Created symlink /etc/systemd/system/multi-user.target.wants/postgresql.service → /lib/systemd/system/postgresql.service.\n",
            "Setting up libgail18:amd64 (2.24.33-2ubuntu2.1) ...\n",
            "Setting up libgtk2.0-bin (2.24.33-2ubuntu2.1) ...\n",
            "Setting up x11-utils (7.7+5build2) ...\n",
            "Setting up libatk-wrapper-java (0.38.0-5build1) ...\n",
            "Setting up postgresql-14 (14.17-0ubuntu0.22.04.1) ...\n",
            "Creating new PostgreSQL cluster 14/main ...\n",
            "/usr/lib/postgresql/14/bin/initdb -D /var/lib/postgresql/14/main --auth-local peer --auth-host scram-sha-256 --no-instructions\n",
            "The files belonging to this database system will be owned by user \"postgres\".\n",
            "This user must also own the server process.\n",
            "\n",
            "The database cluster will be initialized with locale \"en_US.UTF-8\".\n",
            "The default database encoding has accordingly been set to \"UTF8\".\n",
            "The default text search configuration will be set to \"english\".\n",
            "\n",
            "Data page checksums are disabled.\n",
            "\n",
            "fixing permissions on existing directory /var/lib/postgresql/14/main ... ok\n",
            "creating subdirectories ... ok\n",
            "selecting dynamic shared memory implementation ... posix\n",
            "selecting default max_connections ... 100\n",
            "selecting default shared_buffers ... 128MB\n",
            "selecting default time zone ... Etc/UTC\n",
            "creating configuration files ... ok\n",
            "running bootstrap script ... ok\n",
            "performing post-bootstrap initialization ... ok\n",
            "syncing data to disk ... ok\n",
            "update-alternatives: using /usr/share/postgresql/14/man/man1/postmaster.1.gz to provide /usr/share/man/man1/postmaster.1.gz (postmaster.1.gz) in auto mode\n",
            "invoke-rc.d: could not determine current runlevel\n",
            "invoke-rc.d: policy-rc.d denied execution of start.\n",
            "Setting up libgail-common:amd64 (2.24.33-2ubuntu2.1) ...\n",
            "Setting up libatk-wrapper-java-jni:amd64 (0.38.0-5build1) ...\n",
            "Setting up postgresql-contrib (14+238) ...\n",
            "Setting up postgresql (14+238) ...\n",
            "Setting up openjdk-8-jre:amd64 (8u442-b06~us1-0ubuntu1~22.04) ...\n",
            "update-alternatives: using /usr/lib/jvm/java-8-openjdk-amd64/jre/bin/policytool to provide /usr/bin/policytool (policytool) in auto mode\n",
            "Setting up openjdk-8-jdk:amd64 (8u442-b06~us1-0ubuntu1~22.04) ...\n",
            "update-alternatives: using /usr/lib/jvm/java-8-openjdk-amd64/bin/appletviewer to provide /usr/bin/appletviewer (appletviewer) in auto mode\n",
            "update-alternatives: using /usr/lib/jvm/java-8-openjdk-amd64/bin/jconsole to provide /usr/bin/jconsole (jconsole) in auto mode\n",
            "Processing triggers for fontconfig (2.13.1-4.2ubuntu5) ...\n",
            "Processing triggers for hicolor-icon-theme (0.17-2) ...\n",
            "Processing triggers for libc-bin (2.35-0ubuntu3.8) ...\n",
            "/sbin/ldconfig.real: /usr/local/lib/libtbbbind_2_5.so.3 is not a symbolic link\n",
            "\n",
            "/sbin/ldconfig.real: /usr/local/lib/libtcm.so.1 is not a symbolic link\n",
            "\n",
            "/sbin/ldconfig.real: /usr/local/lib/libtbbbind.so.3 is not a symbolic link\n",
            "\n",
            "/sbin/ldconfig.real: /usr/local/lib/libtbbbind_2_0.so.3 is not a symbolic link\n",
            "\n",
            "/sbin/ldconfig.real: /usr/local/lib/libur_adapter_opencl.so.0 is not a symbolic link\n",
            "\n",
            "/sbin/ldconfig.real: /usr/local/lib/libtbbmalloc.so.2 is not a symbolic link\n",
            "\n",
            "/sbin/ldconfig.real: /usr/local/lib/libtbbmalloc_proxy.so.2 is not a symbolic link\n",
            "\n",
            "/sbin/ldconfig.real: /usr/local/lib/libhwloc.so.15 is not a symbolic link\n",
            "\n",
            "/sbin/ldconfig.real: /usr/local/lib/libtbb.so.12 is not a symbolic link\n",
            "\n",
            "/sbin/ldconfig.real: /usr/local/lib/libur_loader.so.0 is not a symbolic link\n",
            "\n",
            "/sbin/ldconfig.real: /usr/local/lib/libumf.so.0 is not a symbolic link\n",
            "\n",
            "/sbin/ldconfig.real: /usr/local/lib/libur_adapter_level_zero.so.0 is not a symbolic link\n",
            "\n",
            "/sbin/ldconfig.real: /usr/local/lib/libtcm_debug.so.1 is not a symbolic link\n",
            "\n",
            "Processing triggers for man-db (2.10.2-1) ...\n",
            "Processing triggers for libgdk-pixbuf-2.0-0:amd64 (2.42.8+dfsg-1ubuntu0.3) ...\n",
            "Processing triggers for mailcap (3.70+nmu1ubuntu1) ...\n",
            "\u001b[2K   \u001b[90m━━━━━━━━━━━━━━━━━━━━━━━━━━━━━━━━━━━━━━━━\u001b[0m \u001b[32m3.0/3.0 MB\u001b[0m \u001b[31m58.6 MB/s\u001b[0m eta \u001b[36m0:00:00\u001b[0m\n",
            "\u001b[?25h * Starting PostgreSQL 14 database server\n",
            "   ...done.\n",
            "postgres   26356  1.5  0.2 218360 30444 ?        Ss   14:07   0:00 /usr/lib/postgresql/14/bin/postgr\n",
            "postgres   26358  0.0  0.0 218360  6936 ?        Ss   14:07   0:00 postgres: 14/main: checkpointer \n",
            "postgres   26359  0.0  0.0 218360  7044 ?        Ss   14:07   0:00 postgres: 14/main: background wri\n",
            "postgres   26360  0.0  0.0 218360  7044 ?        Ss   14:07   0:00 postgres: 14/main: walwriter \n",
            "postgres   26361  0.0  0.0 218896  9752 ?        Ss   14:07   0:00 postgres: 14/main: autovacuum lau\n",
            "postgres   26362  0.0  0.0  72952  6616 ?        Ss   14:07   0:00 postgres: 14/main: stats collecto\n",
            "postgres   26363  0.0  0.0 218796  7864 ?        Ss   14:07   0:00 postgres: 14/main: logical replic\n",
            "root       26384  0.0  0.0   6484  2328 ?        S    14:07   0:00 grep postgres\n"
          ]
        }
      ]
    },
    {
      "cell_type": "code",
      "source": [
        "!apt-get update\n",
        "!apt-get install -y postgresql postgresql-contrib\n"
      ],
      "metadata": {
        "id": "ax9ylmoCDnhS",
        "colab": {
          "base_uri": "https://localhost:8080/"
        },
        "outputId": "afdd73bb-0695-45ab-adc5-7d3d1c83f6d8"
      },
      "execution_count": 40,
      "outputs": [
        {
          "output_type": "stream",
          "name": "stdout",
          "text": [
            "\r0% [Working]\r            \rHit:1 https://cloud.r-project.org/bin/linux/ubuntu jammy-cran40/ InRelease\n",
            "\r0% [Waiting for headers] [Waiting for headers] [Connected to r2u.stat.illinois.edu (192.17.190.167)]\r                                                                                                    \rHit:2 http://security.ubuntu.com/ubuntu jammy-security InRelease\n",
            "Hit:3 http://archive.ubuntu.com/ubuntu jammy InRelease\n",
            "Hit:4 https://r2u.stat.illinois.edu/ubuntu jammy InRelease\n",
            "Hit:5 https://developer.download.nvidia.com/compute/cuda/repos/ubuntu2204/x86_64  InRelease\n",
            "Hit:6 http://archive.ubuntu.com/ubuntu jammy-updates InRelease\n",
            "Hit:7 http://archive.ubuntu.com/ubuntu jammy-backports InRelease\n",
            "Hit:8 https://ppa.launchpadcontent.net/deadsnakes/ppa/ubuntu jammy InRelease\n",
            "Hit:9 https://ppa.launchpadcontent.net/graphics-drivers/ppa/ubuntu jammy InRelease\n",
            "Hit:10 https://ppa.launchpadcontent.net/ubuntugis/ppa/ubuntu jammy InRelease\n",
            "Reading package lists... Done\n",
            "W: Skipping acquire of configured file 'main/source/Sources' as repository 'https://r2u.stat.illinois.edu/ubuntu jammy InRelease' does not seem to provide it (sources.list entry misspelt?)\n",
            "Reading package lists... Done\n",
            "Building dependency tree... Done\n",
            "Reading state information... Done\n",
            "postgresql is already the newest version (14+238).\n",
            "postgresql-contrib is already the newest version (14+238).\n",
            "0 upgraded, 0 newly installed, 0 to remove and 32 not upgraded.\n"
          ]
        }
      ]
    },
    {
      "cell_type": "code",
      "source": [
        "from pyspark.sql import SparkSession\n"
      ],
      "metadata": {
        "id": "beA-WuHLGa5V"
      },
      "execution_count": 22,
      "outputs": []
    },
    {
      "cell_type": "code",
      "source": [
        "spark = SparkSession.builder \\\n",
        "    .appName(\"PostgresSpark\") \\\n",
        "    .config(\"spark.jars.packages\", \"org.postgresql:postgresql:42.2.27\") \\\n",
        "    .getOrCreate()\n"
      ],
      "metadata": {
        "id": "uEYekRFwGowe"
      },
      "execution_count": 23,
      "outputs": []
    },
    {
      "cell_type": "code",
      "source": [
        "from pyspark.sql.functions import *"
      ],
      "metadata": {
        "id": "L0ecnp4kG4fY"
      },
      "execution_count": 24,
      "outputs": []
    },
    {
      "cell_type": "code",
      "source": [
        "df = spark.read.json('/content/drive/MyDrive/spark/*.json').withColumn('file_name',input_file_name())"
      ],
      "metadata": {
        "id": "TTqcb58LHX6l"
      },
      "execution_count": 25,
      "outputs": []
    },
    {
      "cell_type": "code",
      "source": [
        "df.printSchema()"
      ],
      "metadata": {
        "colab": {
          "base_uri": "https://localhost:8080/"
        },
        "id": "R8ck4U8UIt30",
        "outputId": "9aeec864-9a52-4733-b822-b772e37ec060"
      },
      "execution_count": 26,
      "outputs": [
        {
          "output_type": "stream",
          "name": "stdout",
          "text": [
            "root\n",
            " |-- _corrupt_record: string (nullable = true)\n",
            " |-- created: string (nullable = true)\n",
            " |-- description: string (nullable = true)\n",
            " |-- forks: long (nullable = true)\n",
            " |-- full_name: string (nullable = true)\n",
            " |-- id: long (nullable = true)\n",
            " |-- language: string (nullable = true)\n",
            " |-- open_issues: long (nullable = true)\n",
            " |-- repo_name: string (nullable = true)\n",
            " |-- stars: long (nullable = true)\n",
            " |-- subscribers: long (nullable = true)\n",
            " |-- topics: array (nullable = true)\n",
            " |    |-- element: string (containsNull = true)\n",
            " |-- type: string (nullable = true)\n",
            " |-- username: string (nullable = true)\n",
            " |-- file_name: string (nullable = false)\n",
            "\n"
          ]
        }
      ]
    },
    {
      "cell_type": "code",
      "source": [
        "programming_lang = (df.groupBy('language').agg(count(col('language')).alias('count_of_repos_using_it')).sort(desc('count_of_repos_using_it') ))"
      ],
      "metadata": {
        "id": "Zv5F_urrJzOW"
      },
      "execution_count": 27,
      "outputs": []
    },
    {
      "cell_type": "code",
      "source": [
        "organizations_stars= df.where(col('type') == \"Organization\").groupBy(col('username')).agg(sum('stars').alias('count_of_stars')).sort(desc('count_of_stars'))"
      ],
      "metadata": {
        "id": "w97KmlAEQPsp"
      },
      "execution_count": 28,
      "outputs": []
    },
    {
      "cell_type": "code",
      "source": [
        "search_terms_relevance = df.groupBy('file_name').agg(sum((1.5 * col('forks') + 1.32 * col('subscribers') + 1.04 * col('stars'))).alias('count_of_stars')).sort(desc('count_of_stars'))"
      ],
      "metadata": {
        "id": "g6berHz8Q7U8"
      },
      "execution_count": 29,
      "outputs": []
    },
    {
      "cell_type": "code",
      "source": [
        "!sudo -u postgres psql -c \"ALTER USER postgres PASSWORD 'mohsen123';\"\n",
        "!sudo -u postgres psql -c \"CREATE USER mohsen WITH PASSWORD 'mohsen123';\"\n",
        "!sudo -u postgres psql -c \"ALTER USER mohsen CREATEDB;\"\n",
        "!sudo -u postgres psql -c \"CREATE DATABASE spark_db OWNER mohsen;\""
      ],
      "metadata": {
        "colab": {
          "base_uri": "https://localhost:8080/"
        },
        "id": "qGDhq0cVpEoc",
        "outputId": "d2c8d645-e587-49fb-b6fb-d3bf4cbf658e"
      },
      "execution_count": 31,
      "outputs": [
        {
          "output_type": "stream",
          "name": "stdout",
          "text": [
            "ALTER ROLE\n",
            "CREATE ROLE\n",
            "ALTER ROLE\n",
            "CREATE DATABASE\n"
          ]
        }
      ]
    },
    {
      "cell_type": "code",
      "source": [
        "!sudo -u mohsen psql -d spark_db -c \"\\dt\"\n"
      ],
      "metadata": {
        "id": "m6WyKiCKpfpw",
        "colab": {
          "base_uri": "https://localhost:8080/"
        },
        "outputId": "3e06b9e7-fb49-46f0-f47c-420e62f293c3"
      },
      "execution_count": 37,
      "outputs": [
        {
          "output_type": "stream",
          "name": "stdout",
          "text": [
            "sudo: unknown user mohsen\r\n",
            "sudo: error initializing audit plugin sudoers_audit\r\n"
          ]
        }
      ]
    },
    {
      "cell_type": "code",
      "source": [
        "!service postgresql start\n"
      ],
      "metadata": {
        "colab": {
          "base_uri": "https://localhost:8080/"
        },
        "id": "qkK6QBDSGeSt",
        "outputId": "370bb232-24c2-4123-d9ab-b843aa767007"
      },
      "execution_count": 41,
      "outputs": [
        {
          "output_type": "stream",
          "name": "stdout",
          "text": [
            " * Starting PostgreSQL 14 database server\n",
            "   ...done.\n"
          ]
        }
      ]
    },
    {
      "cell_type": "code",
      "source": [
        "!sudo -u postgres psql -c \"CREATE USER mohsen_essam WITH PASSWORD 'mohsen123';\"\n",
        "!sudo -u postgres psql -c \"ALTER USER mohsen_essam CREATEDB;\"\n",
        "!sudo -u postgres psql -c \"CREATE DATABASE  OWNER mohsen_essam;\"\n"
      ],
      "metadata": {
        "colab": {
          "base_uri": "https://localhost:8080/"
        },
        "id": "iMp95whxGeH5",
        "outputId": "5b9b09a0-4929-4683-f6ed-e57b0fb1fdcf"
      },
      "execution_count": 44,
      "outputs": [
        {
          "output_type": "stream",
          "name": "stdout",
          "text": [
            "CREATE ROLE\n",
            "ALTER ROLE\n",
            "ERROR:  database \"spark_db\" already exists\n"
          ]
        }
      ]
    },
    {
      "cell_type": "code",
      "source": [
        "!sudo -u postgres psql -d spark_db -c \"\\dt\"\n"
      ],
      "metadata": {
        "colab": {
          "base_uri": "https://localhost:8080/"
        },
        "id": "jKeTxA5yGd-Q",
        "outputId": "44f246ec-38a9-4c82-e335-97213e7af80b"
      },
      "execution_count": 45,
      "outputs": [
        {
          "output_type": "stream",
          "name": "stdout",
          "text": [
            "Did not find any relations.\n"
          ]
        }
      ]
    },
    {
      "cell_type": "code",
      "source": [
        "!sudo sed -i 's/md5/trust/g' /etc/postgresql/*/main/pg_hba.conf\n"
      ],
      "metadata": {
        "id": "wyiwjIPiGdm2"
      },
      "execution_count": 47,
      "outputs": []
    },
    {
      "cell_type": "code",
      "source": [
        "!service postgresql restart\n"
      ],
      "metadata": {
        "colab": {
          "base_uri": "https://localhost:8080/"
        },
        "id": "RoTgx9DJG-ko",
        "outputId": "d1f50bfa-0d08-4a11-ffd7-3a044e0fd61e"
      },
      "execution_count": 48,
      "outputs": [
        {
          "output_type": "stream",
          "name": "stdout",
          "text": [
            " * Restarting PostgreSQL 14 database server\n",
            "   ...done.\n"
          ]
        }
      ]
    },
    {
      "cell_type": "code",
      "source": [
        "!service postgresql status\n"
      ],
      "metadata": {
        "colab": {
          "base_uri": "https://localhost:8080/"
        },
        "id": "WrMscmpqHB8A",
        "outputId": "0ebeb28e-040f-4e42-eb99-336cc0b2f3ca"
      },
      "execution_count": 50,
      "outputs": [
        {
          "output_type": "stream",
          "name": "stdout",
          "text": [
            "14/main (port 5432): online\n"
          ]
        }
      ]
    },
    {
      "cell_type": "code",
      "source": [
        "!sudo -u postgres psql -c \"ALTER USER postgres PASSWORD 'mypassword';\"\n"
      ],
      "metadata": {
        "colab": {
          "base_uri": "https://localhost:8080/"
        },
        "id": "B350PPtNHIX1",
        "outputId": "a4c77916-9d7e-4d90-a1f9-5cf8d6f916ac"
      },
      "execution_count": 51,
      "outputs": [
        {
          "output_type": "stream",
          "name": "stdout",
          "text": [
            "ALTER ROLE\n"
          ]
        }
      ]
    },
    {
      "cell_type": "code",
      "source": [
        "import psycopg2\n",
        "\n",
        "conn = psycopg2.connect(\n",
        "    dbname=\"spark_db\",\n",
        "    user=\"postgres\",\n",
        "    password=\"mypassword\",\n",
        "    host=\"localhost\"\n",
        ")\n",
        "\n",
        "cursor = conn.cursor()\n",
        "cursor.execute(\"SELECT version();\")\n",
        "print(cursor.fetchone())\n",
        "\n",
        "conn.close()\n"
      ],
      "metadata": {
        "colab": {
          "base_uri": "https://localhost:8080/"
        },
        "id": "XY5veGwnHLh4",
        "outputId": "03d37adb-02a4-49a2-c168-cea71b362f4b"
      },
      "execution_count": 52,
      "outputs": [
        {
          "output_type": "stream",
          "name": "stdout",
          "text": [
            "('PostgreSQL 14.17 (Ubuntu 14.17-0ubuntu0.22.04.1) on x86_64-pc-linux-gnu, compiled by gcc (Ubuntu 11.4.0-1ubuntu1~22.04) 11.4.0, 64-bit',)\n"
          ]
        }
      ]
    },
    {
      "cell_type": "code",
      "source": [
        "from pyspark.sql import SparkSession\n",
        "\n",
        "spark = SparkSession.builder \\\n",
        "    .appName(\"Postgres_Spark\") \\\n",
        "    .config(\"spark.jars\", \"https://jdbc.postgresql.org/download/postgresql-42.2.20.jar\") \\\n",
        "    .getOrCreate()\n"
      ],
      "metadata": {
        "id": "0CVBJnT-HOEF"
      },
      "execution_count": 54,
      "outputs": []
    },
    {
      "cell_type": "code",
      "source": [
        "programming_lang.write \\\n",
        "    .format(\"jdbc\") \\\n",
        "    .option(\"url\", \"jdbc:postgresql://localhost:5432/spark_db\") \\\n",
        "    .option(\"dbtable\", \"table2\") .option(\"user\", \"postgres\") \\\n",
        "    .option(\"password\", \"mypassword\") \\\n",
        "    .option(\"driver\", \"org.postgresql.Driver\") \\\n",
        "    .save()\n"
      ],
      "metadata": {
        "id": "Jb69K0ntH8FN"
      },
      "execution_count": 59,
      "outputs": []
    },
    {
      "cell_type": "code",
      "source": [
        "df = spark.read \\\n",
        "    .format(\"jdbc\") \\\n",
        "    .option(\"url\", \"jdbc:postgresql://localhost:5432/spark_db\") \\\n",
        "    .option(\"dbtable\", \"table2\") \\\n",
        "    .option(\"user\", \"postgres\") \\\n",
        "    .option(\"password\", \"mypassword\") \\\n",
        "    .option(\"driver\", \"org.postgresql.Driver\") \\\n",
        "    .load()\n",
        "\n",
        "df.show()\n"
      ],
      "metadata": {
        "colab": {
          "base_uri": "https://localhost:8080/"
        },
        "id": "wv6Vk21cH9ep",
        "outputId": "05fea091-f709-4709-8f47-8611097d657a"
      },
      "execution_count": 60,
      "outputs": [
        {
          "output_type": "stream",
          "name": "stdout",
          "text": [
            "+----------------+-----------------------+\n",
            "|        language|count_of_repos_using_it|\n",
            "+----------------+-----------------------+\n",
            "|      JavaScript|                   5293|\n",
            "|          Python|                   4861|\n",
            "|      TypeScript|                   2816|\n",
            "|              Go|                   1868|\n",
            "|            Java|                   1418|\n",
            "|Jupyter Notebook|                   1291|\n",
            "|           Scala|                   1178|\n",
            "|             C++|                    952|\n",
            "|            Dart|                    855|\n",
            "|          Kotlin|                    830|\n",
            "|           Julia|                    806|\n",
            "|            HTML|                    524|\n",
            "|           Shell|                    520|\n",
            "|              C#|                    336|\n",
            "|               C|                    321|\n",
            "|             CSS|                    227|\n",
            "|     Objective-C|                    192|\n",
            "|            Ruby|                    174|\n",
            "|            Rust|                    165|\n",
            "|             PHP|                    159|\n",
            "+----------------+-----------------------+\n",
            "only showing top 20 rows\n",
            "\n"
          ]
        }
      ]
    },
    {
      "cell_type": "code",
      "source": [
        "organizations_stars.write \\\n",
        "    .format(\"jdbc\") \\\n",
        "    .option(\"url\", \"jdbc:postgresql://localhost:5432/spark_db\") \\\n",
        "    .option(\"dbtable\", \"table3\") .option(\"user\", \"postgres\") \\\n",
        "    .option(\"password\", \"mypassword\") \\\n",
        "    .option(\"driver\", \"org.postgresql.Driver\") \\\n",
        "    .save()"
      ],
      "metadata": {
        "id": "QdaF3FJ0IYU8"
      },
      "execution_count": 61,
      "outputs": []
    },
    {
      "cell_type": "code",
      "source": [
        "df2 = spark.read \\\n",
        "    .format(\"jdbc\") \\\n",
        "    .option(\"url\", \"jdbc:postgresql://localhost:5432/spark_db\") \\\n",
        "    .option(\"dbtable\", \"table3\") \\\n",
        "    .option(\"user\", \"postgres\") \\\n",
        "    .option(\"password\", \"mypassword\") \\\n",
        "    .option(\"driver\", \"org.postgresql.Driver\") \\\n",
        "    .load()\n",
        "\n",
        "df2.show()\n"
      ],
      "metadata": {
        "colab": {
          "base_uri": "https://localhost:8080/"
        },
        "id": "ZgLeLu2_JU4_",
        "outputId": "cfabbfc7-f649-4b24-dfdd-5b40b2405f5c"
      },
      "execution_count": 63,
      "outputs": [
        {
          "output_type": "stream",
          "name": "stdout",
          "text": [
            "+-----------+--------------+\n",
            "|   username|count_of_stars|\n",
            "+-----------+--------------+\n",
            "|  microsoft|       1011553|\n",
            "| tensorflow|        859765|\n",
            "|   facebook|        627455|\n",
            "|     apache|        433004|\n",
            "|    angular|        352533|\n",
            "|huggingface|        306537|\n",
            "|     google|        289449|\n",
            "|    pytorch|        255202|\n",
            "|gothinkster|        218946|\n",
            "|storybookjs|        208451|\n",
            "| kubernetes|        206820|\n",
            "| keras-team|        195019|\n",
            "|     vercel|        180974|\n",
            "|    alibaba|        172746|\n",
            "|    Tencent|        159319|\n",
            "|    flutter|        159010|\n",
            "|     nodejs|        144071|\n",
            "|     docker|        142690|\n",
            "|    ohmyzsh|        141449|\n",
            "|       dmlc|        139827|\n",
            "+-----------+--------------+\n",
            "only showing top 20 rows\n",
            "\n"
          ]
        }
      ]
    },
    {
      "cell_type": "code",
      "source": [
        "search_terms_relevance.write \\\n",
        "    .format(\"jdbc\") \\\n",
        "    .option(\"url\", \"jdbc:postgresql://localhost:5432/spark_db\") \\\n",
        "    .option(\"dbtable\", \"table4\") .option(\"user\", \"postgres\") \\\n",
        "    .option(\"password\", \"mypassword\") \\\n",
        "    .option(\"driver\", \"org.postgresql.Driver\") \\\n",
        "    .save()"
      ],
      "metadata": {
        "id": "PKFmp4cnJZ1-"
      },
      "execution_count": 64,
      "outputs": []
    },
    {
      "cell_type": "code",
      "source": [
        "from os import truncate\n",
        "df3 = spark.read \\\n",
        "    .format(\"jdbc\") \\\n",
        "    .option(\"url\", \"jdbc:postgresql://localhost:5432/spark_db\") \\\n",
        "    .option(\"dbtable\", \"table4\") \\\n",
        "    .option(\"user\", \"postgres\") \\\n",
        "    .option(\"password\", \"mypassword\") \\\n",
        "    .option(\"driver\", \"org.postgresql.Driver\") \\\n",
        "    .load()\n",
        "\n",
        "df3.show(truncate= False)"
      ],
      "metadata": {
        "colab": {
          "base_uri": "https://localhost:8080/"
        },
        "id": "UWtmtM1rQXDF",
        "outputId": "a6263ff0-6ee4-4b84-eef5-43e50bd5d1d3"
      },
      "execution_count": 67,
      "outputs": [
        {
          "output_type": "stream",
          "name": "stdout",
          "text": [
            "+---------------------------------------------------------+------------------+\n",
            "|file_name                                                |count_of_stars    |\n",
            "+---------------------------------------------------------+------------------+\n",
            "|file:///content/drive/MyDrive/spark/R.json               |1.187633824E7     |\n",
            "|file:///content/drive/MyDrive/spark/Machine-Learning.json|6925617.799999998 |\n",
            "|file:///content/drive/MyDrive/spark/Deep-Learning.json   |6559100.0200000005|\n",
            "|file:///content/drive/MyDrive/spark/Golang.json          |5407407.259999992 |\n",
            "|file:///content/drive/MyDrive/spark/Typescript.json      |4909697.760000003 |\n",
            "|file:///content/drive/MyDrive/spark/Docker.json          |4403817.560000001 |\n",
            "|file:///content/drive/MyDrive/spark/Cpp.json             |4377811.440000002 |\n",
            "|file:///content/drive/MyDrive/spark/NodeJS.json          |4331014.679999995 |\n",
            "|file:///content/drive/MyDrive/spark/Tensorflow.json      |3918987.260000002 |\n",
            "|file:///content/drive/MyDrive/spark/Kubernetes.json      |3540183.0199999996|\n",
            "|file:///content/drive/MyDrive/spark/PyTorch.json         |3357329.079999997 |\n",
            "|file:///content/drive/MyDrive/spark/React-Native.json    |3097924.4600000037|\n",
            "|file:///content/drive/MyDrive/spark/Angular.json         |2888727.660000004 |\n",
            "|file:///content/drive/MyDrive/spark/Kotlin.json          |1936763.9000000004|\n",
            "|file:///content/drive/MyDrive/spark/Django.json          |1488257.160000001 |\n",
            "|file:///content/drive/MyDrive/spark/serverless.json      |1312038.9799999981|\n",
            "|file:///content/drive/MyDrive/spark/Scala.json           |1287463.6800000004|\n",
            "|file:///content/drive/MyDrive/spark/ethereum.json        |1157287.259999999 |\n",
            "|file:///content/drive/MyDrive/spark/Dart.json            |1028218.3199999996|\n",
            "|file:///content/drive/MyDrive/spark/Scikit.json          |897061.2400000009 |\n",
            "+---------------------------------------------------------+------------------+\n",
            "only showing top 20 rows\n",
            "\n"
          ]
        }
      ]
    },
    {
      "cell_type": "code",
      "source": [
        "conn = psycopg2.connect(\n",
        "    dbname=\"spark_db\",\n",
        "    user=\"postgres\",\n",
        "    password=\"mypassword\",\n",
        "    host=\"localhost\"\n",
        ")\n"
      ],
      "metadata": {
        "id": "GtdBt2uqT7GC"
      },
      "execution_count": 73,
      "outputs": []
    },
    {
      "cell_type": "code",
      "source": [
        "cursor = conn.cursor()\n",
        "cursor.execute(\"SELECT * FROM table4\")\n",
        "\n",
        "for i in cursor.fetchall():\n",
        "  print(i)\n",
        "\n",
        "\n",
        "\n"
      ],
      "metadata": {
        "colab": {
          "base_uri": "https://localhost:8080/"
        },
        "id": "NPMcd4auQcH7",
        "outputId": "008bb2e8-6e1f-4277-d0ed-773e83a4a010"
      },
      "execution_count": 82,
      "outputs": [
        {
          "output_type": "stream",
          "name": "stdout",
          "text": [
            "('file:///content/drive/MyDrive/spark/R.json', 11876338.24)\n",
            "('file:///content/drive/MyDrive/spark/Machine-Learning.json', 6925617.799999998)\n",
            "('file:///content/drive/MyDrive/spark/Deep-Learning.json', 6559100.0200000005)\n",
            "('file:///content/drive/MyDrive/spark/Golang.json', 5407407.259999992)\n",
            "('file:///content/drive/MyDrive/spark/Typescript.json', 4909697.760000003)\n",
            "('file:///content/drive/MyDrive/spark/Docker.json', 4403817.560000001)\n",
            "('file:///content/drive/MyDrive/spark/Cpp.json', 4377811.440000002)\n",
            "('file:///content/drive/MyDrive/spark/NodeJS.json', 4331014.679999995)\n",
            "('file:///content/drive/MyDrive/spark/Tensorflow.json', 3918987.260000002)\n",
            "('file:///content/drive/MyDrive/spark/Kubernetes.json', 3540183.0199999996)\n",
            "('file:///content/drive/MyDrive/spark/PyTorch.json', 3357329.079999997)\n",
            "('file:///content/drive/MyDrive/spark/React-Native.json', 3097924.4600000037)\n",
            "('file:///content/drive/MyDrive/spark/Angular.json', 2888727.660000004)\n",
            "('file:///content/drive/MyDrive/spark/Kotlin.json', 1936763.9000000004)\n",
            "('file:///content/drive/MyDrive/spark/Django.json', 1488257.160000001)\n",
            "('file:///content/drive/MyDrive/spark/serverless.json', 1312038.9799999981)\n",
            "('file:///content/drive/MyDrive/spark/Scala.json', 1287463.6800000004)\n",
            "('file:///content/drive/MyDrive/spark/ethereum.json', 1157287.259999999)\n",
            "('file:///content/drive/MyDrive/spark/Dart.json', 1028218.3199999996)\n",
            "('file:///content/drive/MyDrive/spark/Scikit.json', 897061.2400000009)\n",
            "('file:///content/drive/MyDrive/spark/Flask.json', 884822.1200000001)\n",
            "('file:///content/drive/MyDrive/spark/React-JS.json', 870068.3600000012)\n",
            "('file:///content/drive/MyDrive/spark/NextJS.json', 631042.7399999995)\n",
            "('file:///content/drive/MyDrive/spark/Hadoop.json', 584015.9000000012)\n",
            "('file:///content/drive/MyDrive/spark/Julia.json', 384773.28000000125)\n",
            "('file:///content/drive/MyDrive/spark/Gatsby.json', 361724.47999999975)\n",
            "('file:///content/drive/MyDrive/spark/Threejs.json', 360260.49999999965)\n",
            "('file:///content/drive/MyDrive/spark/Spark.json', 295286.1599999999)\n",
            "('file:///content/drive/MyDrive/spark/OOPs.json', 23416.26000000046)\n",
            "('file:///content/drive/MyDrive/spark/Flutter.json', None)\n"
          ]
        }
      ]
    },
    {
      "cell_type": "code",
      "source": [
        "cursor = conn.cursor()\n",
        "cursor.execute(\"SELECT * FROM table4\")\n",
        "\n",
        "for i in cursor.fetchall():\n",
        "  print(i)\n"
      ],
      "metadata": {
        "id": "2AbDdwoeXpeQ"
      },
      "execution_count": null,
      "outputs": []
    },
    {
      "cell_type": "markdown",
      "source": [],
      "metadata": {
        "id": "Vn27lVL-RlMl"
      }
    }
  ],
  "metadata": {
    "colab": {
      "provenance": []
    },
    "kernelspec": {
      "display_name": "Python 3",
      "name": "python3"
    },
    "language_info": {
      "name": "python"
    }
  },
  "nbformat": 4,
  "nbformat_minor": 0
}