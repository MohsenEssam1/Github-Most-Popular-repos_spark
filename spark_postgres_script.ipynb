{
  "cells": [
    {
      "cell_type": "code",
      "execution_count": null,
      "metadata": {
        "colab": {
          "base_uri": "https://localhost:8080/"
        },
        "id": "KJkSlvGAAzb1",
        "outputId": "ecb85b41-fddf-4738-f0e2-f0d150624f1d"
      },
      "outputs": [
        {
          "name": "stdout",
          "output_type": "stream",
          "text": [
            "Requirement already satisfied: pyspark in /usr/local/lib/python3.11/dist-packages (3.5.5)\n",
            "Requirement already satisfied: py4j in /usr/local/lib/python3.11/dist-packages (0.10.9.7)\n"
          ]
        }
      ],
      "source": [
        "!pip install pyspark py4j\n"
      ]
    },
    {
      "cell_type": "code",
      "execution_count": null,
      "metadata": {},
      "outputs": [],
      "source": [
        "!apt-get -qq update\n",
        "!apt-get -y install postgresql postgresql-contrib openjdk-8-jdk\n",
        "\n",
        "!pip install -q pyspark findspark psycopg2-binary\n",
        "!service postgresql start\n",
        "!ps aux | grep postgres\n",
        "!apt-get update\n",
        "!apt-get install -y postgresql postgresql-contrib"
      ]
    },
    {
      "cell_type": "code",
      "execution_count": 22,
      "metadata": {
        "id": "beA-WuHLGa5V"
      },
      "outputs": [],
      "source": [
        "from pyspark.sql import SparkSession\n"
      ]
    },
    {
      "cell_type": "code",
      "execution_count": 23,
      "metadata": {
        "id": "uEYekRFwGowe"
      },
      "outputs": [],
      "source": [
        "spark = SparkSession.builder \\\n",
        "    .appName(\"PostgresSpark\") \\\n",
        "    .config(\"spark.jars.packages\", \"org.postgresql:postgresql:42.2.27\") \\\n",
        "    .getOrCreate()\n"
      ]
    },
    {
      "cell_type": "code",
      "execution_count": 24,
      "metadata": {
        "id": "L0ecnp4kG4fY"
      },
      "outputs": [],
      "source": [
        "from pyspark.sql.functions import *"
      ]
    },
    {
      "cell_type": "code",
      "execution_count": 25,
      "metadata": {
        "id": "TTqcb58LHX6l"
      },
      "outputs": [],
      "source": [
        "df = spark.read.json('/content/drive/MyDrive/spark/*.json').withColumn('file_name',input_file_name())"
      ]
    },
    {
      "cell_type": "code",
      "execution_count": 26,
      "metadata": {
        "colab": {
          "base_uri": "https://localhost:8080/"
        },
        "id": "R8ck4U8UIt30",
        "outputId": "9aeec864-9a52-4733-b822-b772e37ec060"
      },
      "outputs": [
        {
          "name": "stdout",
          "output_type": "stream",
          "text": [
            "root\n",
            " |-- _corrupt_record: string (nullable = true)\n",
            " |-- created: string (nullable = true)\n",
            " |-- description: string (nullable = true)\n",
            " |-- forks: long (nullable = true)\n",
            " |-- full_name: string (nullable = true)\n",
            " |-- id: long (nullable = true)\n",
            " |-- language: string (nullable = true)\n",
            " |-- open_issues: long (nullable = true)\n",
            " |-- repo_name: string (nullable = true)\n",
            " |-- stars: long (nullable = true)\n",
            " |-- subscribers: long (nullable = true)\n",
            " |-- topics: array (nullable = true)\n",
            " |    |-- element: string (containsNull = true)\n",
            " |-- type: string (nullable = true)\n",
            " |-- username: string (nullable = true)\n",
            " |-- file_name: string (nullable = false)\n",
            "\n"
          ]
        }
      ],
      "source": [
        "df.printSchema()"
      ]
    },
    {
      "cell_type": "code",
      "execution_count": 27,
      "metadata": {
        "id": "Zv5F_urrJzOW"
      },
      "outputs": [],
      "source": [
        "programming_lang = (df.groupBy('language').agg(count(col('language')).alias('count_of_repos_using_it')).sort(desc('count_of_repos_using_it') ))"
      ]
    },
    {
      "cell_type": "code",
      "execution_count": 28,
      "metadata": {
        "id": "w97KmlAEQPsp"
      },
      "outputs": [],
      "source": [
        "organizations_stars= df.where(col('type') == \"Organization\").groupBy(col('username')).agg(sum('stars').alias('count_of_stars')).sort(desc('count_of_stars'))"
      ]
    },
    {
      "cell_type": "code",
      "execution_count": 29,
      "metadata": {
        "id": "g6berHz8Q7U8"
      },
      "outputs": [],
      "source": [
        "search_terms_relevance = df.groupBy('file_name').agg(sum((1.5 * col('forks') + 1.32 * col('subscribers') + 1.04 * col('stars'))).alias('relevance score')).sort(desc('count_of_stars'))"
      ]
    },
    {
      "cell_type": "code",
      "execution_count": 31,
      "metadata": {
        "colab": {
          "base_uri": "https://localhost:8080/"
        },
        "id": "qGDhq0cVpEoc",
        "outputId": "d2c8d645-e587-49fb-b6fb-d3bf4cbf658e"
      },
      "outputs": [
        {
          "name": "stdout",
          "output_type": "stream",
          "text": [
            "ALTER ROLE\n",
            "CREATE ROLE\n",
            "ALTER ROLE\n",
            "CREATE DATABASE\n"
          ]
        }
      ],
      "source": [
        "!sudo -u postgres psql -c \"ALTER USER postgres PASSWORD 'mohsen123';\"\n",
        "!sudo -u postgres psql -c \"CREATE USER mohsen WITH PASSWORD 'mohsen123';\"\n",
        "!sudo -u postgres psql -c \"ALTER USER mohsen CREATEDB;\"\n",
        "!sudo -u postgres psql -c \"CREATE DATABASE spark_db OWNER mohsen;\""
      ]
    },
    {
      "cell_type": "code",
      "execution_count": 41,
      "metadata": {
        "colab": {
          "base_uri": "https://localhost:8080/"
        },
        "id": "qkK6QBDSGeSt",
        "outputId": "370bb232-24c2-4123-d9ab-b843aa767007"
      },
      "outputs": [
        {
          "name": "stdout",
          "output_type": "stream",
          "text": [
            " * Starting PostgreSQL 14 database server\n",
            "   ...done.\n"
          ]
        }
      ],
      "source": [
        "!service postgresql start\n"
      ]
    },
    {
      "cell_type": "code",
      "execution_count": 44,
      "metadata": {
        "colab": {
          "base_uri": "https://localhost:8080/"
        },
        "id": "iMp95whxGeH5",
        "outputId": "5b9b09a0-4929-4683-f6ed-e57b0fb1fdcf"
      },
      "outputs": [
        {
          "name": "stdout",
          "output_type": "stream",
          "text": [
            "CREATE ROLE\n",
            "ALTER ROLE\n",
            "ERROR:  database \"spark_db\" already exists\n"
          ]
        }
      ],
      "source": [
        "!sudo -u postgres psql -c \"CREATE USER mohsen_essam WITH PASSWORD 'mohsen123';\"\n",
        "!sudo -u postgres psql -c \"ALTER USER mohsen_essam CREATEDB;\"\n",
        "!sudo -u postgres psql -c \"CREATE DATABASE  OWNER mohsen_essam;\"\n"
      ]
    },
    {
      "cell_type": "code",
      "execution_count": 45,
      "metadata": {
        "colab": {
          "base_uri": "https://localhost:8080/"
        },
        "id": "jKeTxA5yGd-Q",
        "outputId": "44f246ec-38a9-4c82-e335-97213e7af80b"
      },
      "outputs": [
        {
          "name": "stdout",
          "output_type": "stream",
          "text": [
            "Did not find any relations.\n"
          ]
        }
      ],
      "source": [
        "!sudo -u postgres psql -d spark_db -c \"\\dt\"\n"
      ]
    },
    {
      "cell_type": "code",
      "execution_count": 47,
      "metadata": {
        "id": "wyiwjIPiGdm2"
      },
      "outputs": [],
      "source": [
        "!sudo sed -i 's/md5/trust/g' /etc/postgresql/*/main/pg_hba.conf\n"
      ]
    },
    {
      "cell_type": "code",
      "execution_count": 48,
      "metadata": {
        "colab": {
          "base_uri": "https://localhost:8080/"
        },
        "id": "RoTgx9DJG-ko",
        "outputId": "d1f50bfa-0d08-4a11-ffd7-3a044e0fd61e"
      },
      "outputs": [
        {
          "name": "stdout",
          "output_type": "stream",
          "text": [
            " * Restarting PostgreSQL 14 database server\n",
            "   ...done.\n"
          ]
        }
      ],
      "source": [
        "!service postgresql restart\n"
      ]
    },
    {
      "cell_type": "code",
      "execution_count": 50,
      "metadata": {
        "colab": {
          "base_uri": "https://localhost:8080/"
        },
        "id": "WrMscmpqHB8A",
        "outputId": "0ebeb28e-040f-4e42-eb99-336cc0b2f3ca"
      },
      "outputs": [
        {
          "name": "stdout",
          "output_type": "stream",
          "text": [
            "14/main (port 5432): online\n"
          ]
        }
      ],
      "source": [
        "!service postgresql status\n"
      ]
    },
    {
      "cell_type": "code",
      "execution_count": 51,
      "metadata": {
        "colab": {
          "base_uri": "https://localhost:8080/"
        },
        "id": "B350PPtNHIX1",
        "outputId": "a4c77916-9d7e-4d90-a1f9-5cf8d6f916ac"
      },
      "outputs": [
        {
          "name": "stdout",
          "output_type": "stream",
          "text": [
            "ALTER ROLE\n"
          ]
        }
      ],
      "source": [
        "!sudo -u postgres psql -c \"ALTER USER postgres PASSWORD 'mypassword';\"\n"
      ]
    },
    {
      "cell_type": "code",
      "execution_count": 52,
      "metadata": {
        "colab": {
          "base_uri": "https://localhost:8080/"
        },
        "id": "XY5veGwnHLh4",
        "outputId": "03d37adb-02a4-49a2-c168-cea71b362f4b"
      },
      "outputs": [
        {
          "name": "stdout",
          "output_type": "stream",
          "text": [
            "('PostgreSQL 14.17 (Ubuntu 14.17-0ubuntu0.22.04.1) on x86_64-pc-linux-gnu, compiled by gcc (Ubuntu 11.4.0-1ubuntu1~22.04) 11.4.0, 64-bit',)\n"
          ]
        }
      ],
      "source": [
        "import psycopg2\n",
        "\n",
        "conn = psycopg2.connect(\n",
        "    dbname=\"spark_db\",\n",
        "    user=\"postgres\",\n",
        "    password=\"mypassword\",\n",
        "    host=\"localhost\"\n",
        ")\n",
        "\n",
        "cursor = conn.cursor()\n",
        "cursor.execute(\"SELECT version();\")\n",
        "print(cursor.fetchone())\n",
        "\n",
        "conn.close()\n"
      ]
    },
    {
      "cell_type": "code",
      "execution_count": 54,
      "metadata": {
        "id": "0CVBJnT-HOEF"
      },
      "outputs": [],
      "source": [
        "from pyspark.sql import SparkSession\n",
        "\n",
        "spark = SparkSession.builder \\\n",
        "    .appName(\"Postgres_Spark\") \\\n",
        "    .config(\"spark.jars\", \"https://jdbc.postgresql.org/download/postgresql-42.2.20.jar\") \\\n",
        "    .getOrCreate()\n"
      ]
    },
    {
      "cell_type": "code",
      "execution_count": 59,
      "metadata": {
        "id": "Jb69K0ntH8FN"
      },
      "outputs": [],
      "source": [
        "programming_lang.write \\\n",
        "    .format(\"jdbc\") \\\n",
        "    .option(\"url\", \"jdbc:postgresql://localhost:5432/spark_db\") \\\n",
        "    .option(\"dbtable\", \"table2\") .option(\"user\", \"postgres\") \\\n",
        "    .option(\"password\", \"mypassword\") \\\n",
        "    .option(\"driver\", \"org.postgresql.Driver\") \\\n",
        "    .save()\n"
      ]
    },
    {
      "cell_type": "code",
      "execution_count": 60,
      "metadata": {
        "colab": {
          "base_uri": "https://localhost:8080/"
        },
        "id": "wv6Vk21cH9ep",
        "outputId": "05fea091-f709-4709-8f47-8611097d657a"
      },
      "outputs": [
        {
          "name": "stdout",
          "output_type": "stream",
          "text": [
            "+----------------+-----------------------+\n",
            "|        language|count_of_repos_using_it|\n",
            "+----------------+-----------------------+\n",
            "|      JavaScript|                   5293|\n",
            "|          Python|                   4861|\n",
            "|      TypeScript|                   2816|\n",
            "|              Go|                   1868|\n",
            "|            Java|                   1418|\n",
            "|Jupyter Notebook|                   1291|\n",
            "|           Scala|                   1178|\n",
            "|             C++|                    952|\n",
            "|            Dart|                    855|\n",
            "|          Kotlin|                    830|\n",
            "|           Julia|                    806|\n",
            "|            HTML|                    524|\n",
            "|           Shell|                    520|\n",
            "|              C#|                    336|\n",
            "|               C|                    321|\n",
            "|             CSS|                    227|\n",
            "|     Objective-C|                    192|\n",
            "|            Ruby|                    174|\n",
            "|            Rust|                    165|\n",
            "|             PHP|                    159|\n",
            "+----------------+-----------------------+\n",
            "only showing top 20 rows\n",
            "\n"
          ]
        }
      ],
      "source": [
        "df = spark.read \\\n",
        "    .format(\"jdbc\") \\\n",
        "    .option(\"url\", \"jdbc:postgresql://localhost:5432/spark_db\") \\\n",
        "    .option(\"dbtable\", \"table2\") \\\n",
        "    .option(\"user\", \"postgres\") \\\n",
        "    .option(\"password\", \"mypassword\") \\\n",
        "    .option(\"driver\", \"org.postgresql.Driver\") \\\n",
        "    .load()\n",
        "\n",
        "df.show()\n"
      ]
    },
    {
      "cell_type": "code",
      "execution_count": 61,
      "metadata": {
        "id": "QdaF3FJ0IYU8"
      },
      "outputs": [],
      "source": [
        "organizations_stars.write \\\n",
        "    .format(\"jdbc\") \\\n",
        "    .option(\"url\", \"jdbc:postgresql://localhost:5432/spark_db\") \\\n",
        "    .option(\"dbtable\", \"table3\") .option(\"user\", \"postgres\") \\\n",
        "    .option(\"password\", \"mypassword\") \\\n",
        "    .option(\"driver\", \"org.postgresql.Driver\") \\\n",
        "    .save()"
      ]
    },
    {
      "cell_type": "code",
      "execution_count": 63,
      "metadata": {
        "colab": {
          "base_uri": "https://localhost:8080/"
        },
        "id": "ZgLeLu2_JU4_",
        "outputId": "cfabbfc7-f649-4b24-dfdd-5b40b2405f5c"
      },
      "outputs": [
        {
          "name": "stdout",
          "output_type": "stream",
          "text": [
            "+-----------+--------------+\n",
            "|   username|count_of_stars|\n",
            "+-----------+--------------+\n",
            "|  microsoft|       1011553|\n",
            "| tensorflow|        859765|\n",
            "|   facebook|        627455|\n",
            "|     apache|        433004|\n",
            "|    angular|        352533|\n",
            "|huggingface|        306537|\n",
            "|     google|        289449|\n",
            "|    pytorch|        255202|\n",
            "|gothinkster|        218946|\n",
            "|storybookjs|        208451|\n",
            "| kubernetes|        206820|\n",
            "| keras-team|        195019|\n",
            "|     vercel|        180974|\n",
            "|    alibaba|        172746|\n",
            "|    Tencent|        159319|\n",
            "|    flutter|        159010|\n",
            "|     nodejs|        144071|\n",
            "|     docker|        142690|\n",
            "|    ohmyzsh|        141449|\n",
            "|       dmlc|        139827|\n",
            "+-----------+--------------+\n",
            "only showing top 20 rows\n",
            "\n"
          ]
        }
      ],
      "source": [
        "df2 = spark.read \\\n",
        "    .format(\"jdbc\") \\\n",
        "    .option(\"url\", \"jdbc:postgresql://localhost:5432/spark_db\") \\\n",
        "    .option(\"dbtable\", \"table3\") \\\n",
        "    .option(\"user\", \"postgres\") \\\n",
        "    .option(\"password\", \"mypassword\") \\\n",
        "    .option(\"driver\", \"org.postgresql.Driver\") \\\n",
        "    .load()\n",
        "\n",
        "df2.show()\n"
      ]
    },
    {
      "cell_type": "code",
      "execution_count": 64,
      "metadata": {
        "id": "PKFmp4cnJZ1-"
      },
      "outputs": [],
      "source": [
        "search_terms_relevance.write \\\n",
        "    .format(\"jdbc\") \\\n",
        "    .option(\"url\", \"jdbc:postgresql://localhost:5432/spark_db\") \\\n",
        "    .option(\"dbtable\", \"table4\") .option(\"user\", \"postgres\") \\\n",
        "    .option(\"password\", \"mypassword\") \\\n",
        "    .option(\"driver\", \"org.postgresql.Driver\") \\\n",
        "    .save()"
      ]
    },
    {
      "cell_type": "code",
      "execution_count": 67,
      "metadata": {
        "colab": {
          "base_uri": "https://localhost:8080/"
        },
        "id": "UWtmtM1rQXDF",
        "outputId": "a6263ff0-6ee4-4b84-eef5-43e50bd5d1d3"
      },
      "outputs": [
        {
          "name": "stdout",
          "output_type": "stream",
          "text": [
            "+---------------------------------------------------------+------------------+\n",
            "|file_name                                                |count_of_stars    |\n",
            "+---------------------------------------------------------+------------------+\n",
            "|file:///content/drive/MyDrive/spark/R.json               |1.187633824E7     |\n",
            "|file:///content/drive/MyDrive/spark/Machine-Learning.json|6925617.799999998 |\n",
            "|file:///content/drive/MyDrive/spark/Deep-Learning.json   |6559100.0200000005|\n",
            "|file:///content/drive/MyDrive/spark/Golang.json          |5407407.259999992 |\n",
            "|file:///content/drive/MyDrive/spark/Typescript.json      |4909697.760000003 |\n",
            "|file:///content/drive/MyDrive/spark/Docker.json          |4403817.560000001 |\n",
            "|file:///content/drive/MyDrive/spark/Cpp.json             |4377811.440000002 |\n",
            "|file:///content/drive/MyDrive/spark/NodeJS.json          |4331014.679999995 |\n",
            "|file:///content/drive/MyDrive/spark/Tensorflow.json      |3918987.260000002 |\n",
            "|file:///content/drive/MyDrive/spark/Kubernetes.json      |3540183.0199999996|\n",
            "|file:///content/drive/MyDrive/spark/PyTorch.json         |3357329.079999997 |\n",
            "|file:///content/drive/MyDrive/spark/React-Native.json    |3097924.4600000037|\n",
            "|file:///content/drive/MyDrive/spark/Angular.json         |2888727.660000004 |\n",
            "|file:///content/drive/MyDrive/spark/Kotlin.json          |1936763.9000000004|\n",
            "|file:///content/drive/MyDrive/spark/Django.json          |1488257.160000001 |\n",
            "|file:///content/drive/MyDrive/spark/serverless.json      |1312038.9799999981|\n",
            "|file:///content/drive/MyDrive/spark/Scala.json           |1287463.6800000004|\n",
            "|file:///content/drive/MyDrive/spark/ethereum.json        |1157287.259999999 |\n",
            "|file:///content/drive/MyDrive/spark/Dart.json            |1028218.3199999996|\n",
            "|file:///content/drive/MyDrive/spark/Scikit.json          |897061.2400000009 |\n",
            "+---------------------------------------------------------+------------------+\n",
            "only showing top 20 rows\n",
            "\n"
          ]
        }
      ],
      "source": [
        "from os import truncate\n",
        "df3 = spark.read \\\n",
        "    .format(\"jdbc\") \\\n",
        "    .option(\"url\", \"jdbc:postgresql://localhost:5432/spark_db\") \\\n",
        "    .option(\"dbtable\", \"table4\") \\\n",
        "    .option(\"user\", \"postgres\") \\\n",
        "    .option(\"password\", \"mypassword\") \\\n",
        "    .option(\"driver\", \"org.postgresql.Driver\") \\\n",
        "    .load()\n",
        "\n",
        "df3.show(truncate= False)"
      ]
    },
    {
      "cell_type": "code",
      "execution_count": 73,
      "metadata": {
        "id": "GtdBt2uqT7GC"
      },
      "outputs": [],
      "source": [
        "conn = psycopg2.connect(\n",
        "    dbname=\"spark_db\",\n",
        "    user=\"postgres\",\n",
        "    password=\"mypassword\",\n",
        "    host=\"localhost\"\n",
        ")\n"
      ]
    },
    {
      "cell_type": "code",
      "execution_count": 82,
      "metadata": {
        "colab": {
          "base_uri": "https://localhost:8080/"
        },
        "id": "NPMcd4auQcH7",
        "outputId": "008bb2e8-6e1f-4277-d0ed-773e83a4a010"
      },
      "outputs": [
        {
          "name": "stdout",
          "output_type": "stream",
          "text": [
            "('file:///content/drive/MyDrive/spark/R.json', 11876338.24)\n",
            "('file:///content/drive/MyDrive/spark/Machine-Learning.json', 6925617.799999998)\n",
            "('file:///content/drive/MyDrive/spark/Deep-Learning.json', 6559100.0200000005)\n",
            "('file:///content/drive/MyDrive/spark/Golang.json', 5407407.259999992)\n",
            "('file:///content/drive/MyDrive/spark/Typescript.json', 4909697.760000003)\n",
            "('file:///content/drive/MyDrive/spark/Docker.json', 4403817.560000001)\n",
            "('file:///content/drive/MyDrive/spark/Cpp.json', 4377811.440000002)\n",
            "('file:///content/drive/MyDrive/spark/NodeJS.json', 4331014.679999995)\n",
            "('file:///content/drive/MyDrive/spark/Tensorflow.json', 3918987.260000002)\n",
            "('file:///content/drive/MyDrive/spark/Kubernetes.json', 3540183.0199999996)\n",
            "('file:///content/drive/MyDrive/spark/PyTorch.json', 3357329.079999997)\n",
            "('file:///content/drive/MyDrive/spark/React-Native.json', 3097924.4600000037)\n",
            "('file:///content/drive/MyDrive/spark/Angular.json', 2888727.660000004)\n",
            "('file:///content/drive/MyDrive/spark/Kotlin.json', 1936763.9000000004)\n",
            "('file:///content/drive/MyDrive/spark/Django.json', 1488257.160000001)\n",
            "('file:///content/drive/MyDrive/spark/serverless.json', 1312038.9799999981)\n",
            "('file:///content/drive/MyDrive/spark/Scala.json', 1287463.6800000004)\n",
            "('file:///content/drive/MyDrive/spark/ethereum.json', 1157287.259999999)\n",
            "('file:///content/drive/MyDrive/spark/Dart.json', 1028218.3199999996)\n",
            "('file:///content/drive/MyDrive/spark/Scikit.json', 897061.2400000009)\n",
            "('file:///content/drive/MyDrive/spark/Flask.json', 884822.1200000001)\n",
            "('file:///content/drive/MyDrive/spark/React-JS.json', 870068.3600000012)\n",
            "('file:///content/drive/MyDrive/spark/NextJS.json', 631042.7399999995)\n",
            "('file:///content/drive/MyDrive/spark/Hadoop.json', 584015.9000000012)\n",
            "('file:///content/drive/MyDrive/spark/Julia.json', 384773.28000000125)\n",
            "('file:///content/drive/MyDrive/spark/Gatsby.json', 361724.47999999975)\n",
            "('file:///content/drive/MyDrive/spark/Threejs.json', 360260.49999999965)\n",
            "('file:///content/drive/MyDrive/spark/Spark.json', 295286.1599999999)\n",
            "('file:///content/drive/MyDrive/spark/OOPs.json', 23416.26000000046)\n",
            "('file:///content/drive/MyDrive/spark/Flutter.json', None)\n"
          ]
        }
      ],
      "source": [
        "cursor = conn.cursor()\n",
        "cursor.execute(\"SELECT * FROM table4\")\n",
        "\n",
        "for i in cursor.fetchall():\n",
        "  print(i)\n",
        "\n",
        "\n",
        "\n"
      ]
    },
    {
      "cell_type": "markdown",
      "metadata": {
        "id": "Vn27lVL-RlMl"
      },
      "source": []
    }
  ],
  "metadata": {
    "colab": {
      "provenance": []
    },
    "kernelspec": {
      "display_name": "Python 3",
      "name": "python3"
    },
    "language_info": {
      "name": "python"
    }
  },
  "nbformat": 4,
  "nbformat_minor": 0
}
